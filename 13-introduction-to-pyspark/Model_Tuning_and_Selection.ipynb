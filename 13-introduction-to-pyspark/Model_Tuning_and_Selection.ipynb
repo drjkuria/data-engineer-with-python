{
 "cells": [
  {
   "cell_type": "markdown",
   "id": "b92c8c22",
   "metadata": {},
   "source": [
    "# Model Tuning and Selection\n",
    "\n",
    "In this notebook, we'll apply what we've learnt to create a model that predicts which flights will be delayed."
   ]
  },
  {
   "cell_type": "markdown",
   "id": "0a646ffd",
   "metadata": {},
   "source": [
    "## What is Logistic Regression?\n",
    "\n",
    "The model we'll be fitting in this notebook is called a logistic regression. This model is very similar to a linear regression, but instead of predicting a numeric variable, it predicts the probability (between 0 and 1) of an event.\n",
    "\n",
    "To use this as a classification algorithm, all we have to do is assign a cutoff point to these probabilities. If the predicted probability is above the cutoff point, we classify that observation as a 'yes' (in this case, the flight being late), if it's below, you classify it as a 'no'!\n",
    "\n",
    "We'll tune this model by testing different values for several hyperparameters. A hyperparameter is just a value in the model that's not estimated from the data, but rather is supplied by the user to maximize performance."
   ]
  },
  {
   "cell_type": "markdown",
   "id": "bac5522b",
   "metadata": {},
   "source": [
    "## Import Libraries"
   ]
  },
  {
   "cell_type": "code",
   "execution_count": 1,
   "id": "c0ff8a51",
   "metadata": {},
   "outputs": [],
   "source": [
    "import findspark\n",
    "findspark.init()\n",
    "\n",
    "from pyspark.sql import SparkSession"
   ]
  },
  {
   "cell_type": "markdown",
   "id": "5d946a24",
   "metadata": {},
   "source": [
    "## SparkSession"
   ]
  },
  {
   "cell_type": "code",
   "execution_count": 2,
   "id": "c5b795c2",
   "metadata": {},
   "outputs": [],
   "source": [
    "spark = (SparkSession\n",
    "    .builder\n",
    "    .getOrCreate()\n",
    ")"
   ]
  },
  {
   "cell_type": "markdown",
   "id": "8dd63f1f",
   "metadata": {},
   "source": [
    "## Display setting"
   ]
  },
  {
   "cell_type": "code",
   "execution_count": 3,
   "id": "e65b2984",
   "metadata": {},
   "outputs": [
    {
     "data": {
      "text/html": [
       "<style>pre {white-space: pre !important; }</style>"
      ],
      "text/plain": [
       "<IPython.core.display.HTML object>"
      ]
     },
     "metadata": {},
     "output_type": "display_data"
    }
   ],
   "source": [
    "from IPython.core.display import HTML\n",
    "display(HTML(\"<style>pre {white-space: pre !important; }</style>\"))"
   ]
  },
  {
   "cell_type": "markdown",
   "id": "abfee744",
   "metadata": {},
   "source": [
    "## Load data\n"
   ]
  },
  {
   "cell_type": "code",
   "execution_count": 4,
   "id": "cf7c23f9",
   "metadata": {},
   "outputs": [
    {
     "name": "stdout",
     "output_type": "stream",
     "text": [
      "+----+-----+---+--------+---------+--------+---------+-------+-------+------+------+----+--------+--------+----+------+\n",
      "|year|month|day|dep_time|dep_delay|arr_time|arr_delay|carrier|tailnum|flight|origin|dest|air_time|distance|hour|minute|\n",
      "+----+-----+---+--------+---------+--------+---------+-------+-------+------+------+----+--------+--------+----+------+\n",
      "|2014|   12|  8|     658|       -7|     935|       -5|     VX| N846VA|  1780|   SEA| LAX|     132|     954|   6|    58|\n",
      "|2014|    1| 22|    1040|        5|    1505|        5|     AS| N559AS|   851|   SEA| HNL|     360|    2677|  10|    40|\n",
      "|2014|    3|  9|    1443|       -2|    1652|        2|     VX| N847VA|   755|   SEA| SFO|     111|     679|  14|    43|\n",
      "|2014|    4|  9|    1705|       45|    1839|       34|     WN| N360SW|   344|   PDX| SJC|      83|     569|  17|     5|\n",
      "|2014|    3|  9|     754|       -1|    1015|        1|     AS| N612AS|   522|   SEA| BUR|     127|     937|   7|    54|\n",
      "+----+-----+---+--------+---------+--------+---------+-------+-------+------+------+----+--------+--------+----+------+\n",
      "only showing top 5 rows\n",
      "\n"
     ]
    }
   ],
   "source": [
    "# Load the flights data\n",
    "\n",
    "import os\n",
    "from pyspark.sql.types import StructField, StructType, StringType, IntegerType\n",
    "\n",
    "data_path = 'file:///' + os.getcwd() + '/data'\n",
    "\n",
    "flights_path = data_path + '/flights_small.csv'\n",
    "\n",
    "flights_df = (\n",
    "    spark.read\n",
    "        .option(\"header\", True)\n",
    "        .csv(flights_path)\n",
    ")\n",
    "\n",
    "flights_df.show(5)"
   ]
  },
  {
   "cell_type": "code",
   "execution_count": 5,
   "id": "bbe2651a",
   "metadata": {},
   "outputs": [
    {
     "name": "stdout",
     "output_type": "stream",
     "text": [
      "+-------+----+--------------------+----------------+--------+-------+-----+-----+---------+\n",
      "|tailnum|year|                type|    manufacturer|   model|engines|seats|speed|   engine|\n",
      "+-------+----+--------------------+----------------+--------+-------+-----+-----+---------+\n",
      "| N102UW|1998|Fixed wing multi ...|AIRBUS INDUSTRIE|A320-214|      2|  182|   NA|Turbo-fan|\n",
      "| N103US|1999|Fixed wing multi ...|AIRBUS INDUSTRIE|A320-214|      2|  182|   NA|Turbo-fan|\n",
      "| N104UW|1999|Fixed wing multi ...|AIRBUS INDUSTRIE|A320-214|      2|  182|   NA|Turbo-fan|\n",
      "| N105UW|1999|Fixed wing multi ...|AIRBUS INDUSTRIE|A320-214|      2|  182|   NA|Turbo-fan|\n",
      "| N107US|1999|Fixed wing multi ...|AIRBUS INDUSTRIE|A320-214|      2|  182|   NA|Turbo-fan|\n",
      "+-------+----+--------------------+----------------+--------+-------+-----+-----+---------+\n",
      "only showing top 5 rows\n",
      "\n"
     ]
    }
   ],
   "source": [
    "# Load the planes data\n",
    "\n",
    "planes_path = data_path + '/planes.csv'\n",
    "planes_df = (\n",
    "    spark.read\n",
    "        .option(\"header\", True)\n",
    "        .csv(planes_path)\n",
    ")\n",
    "planes_df.show(5)"
   ]
  },
  {
   "cell_type": "markdown",
   "id": "681a8edf",
   "metadata": {},
   "source": [
    "## Join the DataFrames"
   ]
  },
  {
   "cell_type": "code",
   "execution_count": 6,
   "id": "bf14c088",
   "metadata": {},
   "outputs": [],
   "source": [
    "# Rename the year column of planes\n",
    "# This is to avoid dupliucate names during joining \n",
    "\n",
    "planes_df = planes_df.withColumnRenamed(\"year\", \"plane_year\")"
   ]
  },
  {
   "cell_type": "code",
   "execution_count": 7,
   "id": "83070069",
   "metadata": {},
   "outputs": [],
   "source": [
    "# Join the DataFrames\n",
    "\n",
    "model_data_df = flights_df.join(planes_df, on=\"tailnum\", how=\"leftouter\")"
   ]
  },
  {
   "cell_type": "code",
   "execution_count": 8,
   "id": "cda6c5d0",
   "metadata": {},
   "outputs": [
    {
     "name": "stdout",
     "output_type": "stream",
     "text": [
      "+-------+----+-----+---+--------+---------+--------+---------+-------+------+------+----+--------+--------+----+------+----------+--------------------+------------+--------+-------+-----+-----+---------+\n",
      "|tailnum|year|month|day|dep_time|dep_delay|arr_time|arr_delay|carrier|flight|origin|dest|air_time|distance|hour|minute|plane_year|                type|manufacturer|   model|engines|seats|speed|   engine|\n",
      "+-------+----+-----+---+--------+---------+--------+---------+-------+------+------+----+--------+--------+----+------+----------+--------------------+------------+--------+-------+-----+-----+---------+\n",
      "| N846VA|2014|   12|  8|     658|       -7|     935|       -5|     VX|  1780|   SEA| LAX|     132|     954|   6|    58|      2011|Fixed wing multi ...|      AIRBUS|A320-214|      2|  182|   NA|Turbo-fan|\n",
      "| N559AS|2014|    1| 22|    1040|        5|    1505|        5|     AS|   851|   SEA| HNL|     360|    2677|  10|    40|      2006|Fixed wing multi ...|      BOEING| 737-890|      2|  149|   NA|Turbo-fan|\n",
      "| N847VA|2014|    3|  9|    1443|       -2|    1652|        2|     VX|   755|   SEA| SFO|     111|     679|  14|    43|      2011|Fixed wing multi ...|      AIRBUS|A320-214|      2|  182|   NA|Turbo-fan|\n",
      "| N360SW|2014|    4|  9|    1705|       45|    1839|       34|     WN|   344|   PDX| SJC|      83|     569|  17|     5|      1992|Fixed wing multi ...|      BOEING| 737-3H4|      2|  149|   NA|Turbo-fan|\n",
      "| N612AS|2014|    3|  9|     754|       -1|    1015|        1|     AS|   522|   SEA| BUR|     127|     937|   7|    54|      1999|Fixed wing multi ...|      BOEING| 737-790|      2|  151|   NA|Turbo-jet|\n",
      "+-------+----+-----+---+--------+---------+--------+---------+-------+------+------+----+--------+--------+----+------+----------+--------------------+------------+--------+-------+-----+-----+---------+\n",
      "only showing top 5 rows\n",
      "\n"
     ]
    }
   ],
   "source": [
    "model_data_df.show(5)"
   ]
  },
  {
   "cell_type": "markdown",
   "id": "c67eeca1",
   "metadata": {},
   "source": [
    "## String to integer\n",
    "\n",
    "Sometimes Spark does not infer the data types in a dataset correctly. To remedy this, we can use the `.cast()` method to convert all the appropriate columns from our DataFrame to the correct data type."
   ]
  },
  {
   "cell_type": "code",
   "execution_count": 9,
   "id": "796d875c",
   "metadata": {},
   "outputs": [
    {
     "name": "stdout",
     "output_type": "stream",
     "text": [
      "root\n",
      " |-- tailnum: string (nullable = true)\n",
      " |-- year: string (nullable = true)\n",
      " |-- month: string (nullable = true)\n",
      " |-- day: string (nullable = true)\n",
      " |-- dep_time: string (nullable = true)\n",
      " |-- dep_delay: string (nullable = true)\n",
      " |-- arr_time: string (nullable = true)\n",
      " |-- arr_delay: string (nullable = true)\n",
      " |-- carrier: string (nullable = true)\n",
      " |-- flight: string (nullable = true)\n",
      " |-- origin: string (nullable = true)\n",
      " |-- dest: string (nullable = true)\n",
      " |-- air_time: string (nullable = true)\n",
      " |-- distance: string (nullable = true)\n",
      " |-- hour: string (nullable = true)\n",
      " |-- minute: string (nullable = true)\n",
      " |-- plane_year: string (nullable = true)\n",
      " |-- type: string (nullable = true)\n",
      " |-- manufacturer: string (nullable = true)\n",
      " |-- model: string (nullable = true)\n",
      " |-- engines: string (nullable = true)\n",
      " |-- seats: string (nullable = true)\n",
      " |-- speed: string (nullable = true)\n",
      " |-- engine: string (nullable = true)\n",
      "\n"
     ]
    }
   ],
   "source": [
    "# Print the current data types\n",
    "model_data_df.printSchema()"
   ]
  },
  {
   "cell_type": "markdown",
   "id": "7d76d478",
   "metadata": {},
   "source": [
    "As shown above, all the columns are of the string data type. Let's cast some columns from string to integers using the `.cast()` method."
   ]
  },
  {
   "cell_type": "code",
   "execution_count": 10,
   "id": "31621ccd",
   "metadata": {},
   "outputs": [
    {
     "name": "stdout",
     "output_type": "stream",
     "text": [
      "root\n",
      " |-- tailnum: string (nullable = true)\n",
      " |-- year: string (nullable = true)\n",
      " |-- month: integer (nullable = true)\n",
      " |-- day: string (nullable = true)\n",
      " |-- dep_time: string (nullable = true)\n",
      " |-- dep_delay: string (nullable = true)\n",
      " |-- arr_time: string (nullable = true)\n",
      " |-- arr_delay: integer (nullable = true)\n",
      " |-- carrier: string (nullable = true)\n",
      " |-- flight: string (nullable = true)\n",
      " |-- origin: string (nullable = true)\n",
      " |-- dest: string (nullable = true)\n",
      " |-- air_time: integer (nullable = true)\n",
      " |-- distance: string (nullable = true)\n",
      " |-- hour: string (nullable = true)\n",
      " |-- minute: string (nullable = true)\n",
      " |-- plane_year: integer (nullable = true)\n",
      " |-- type: string (nullable = true)\n",
      " |-- manufacturer: string (nullable = true)\n",
      " |-- model: string (nullable = true)\n",
      " |-- engines: string (nullable = true)\n",
      " |-- seats: string (nullable = true)\n",
      " |-- speed: string (nullable = true)\n",
      " |-- engine: string (nullable = true)\n",
      "\n"
     ]
    }
   ],
   "source": [
    "# Cast the columns to integers\n",
    "model_data_df = model_data_df.withColumn(\"arr_delay\", model_data_df.arr_delay.cast(\"integer\"))\n",
    "model_data_df = model_data_df.withColumn(\"air_time\", model_data_df.air_time.cast(\"integer\"))\n",
    "model_data_df = model_data_df.withColumn(\"month\", model_data_df.month.cast(\"integer\"))\n",
    "model_data_df = model_data_df.withColumn(\"plane_year\", model_data_df.plane_year.cast(\"integer\"))\n",
    "\n",
    "model_data_df.printSchema()"
   ]
  },
  {
   "cell_type": "markdown",
   "id": "044ce627",
   "metadata": {},
   "source": [
    "Notice the changes in data types of the columns in the schema above."
   ]
  },
  {
   "cell_type": "markdown",
   "id": "c75096e9",
   "metadata": {},
   "source": [
    "## Create a new column\n",
    "\n",
    "We are going to create a new column `plane_age` to be used in our model. This is slightly different from the year it was made."
   ]
  },
  {
   "cell_type": "code",
   "execution_count": 11,
   "id": "f7785848",
   "metadata": {},
   "outputs": [
    {
     "name": "stdout",
     "output_type": "stream",
     "text": [
      "+----+----------+---------+\n",
      "|year|plane_year|plane_age|\n",
      "+----+----------+---------+\n",
      "|2014|      2011|      3.0|\n",
      "|2014|      2006|      8.0|\n",
      "|2014|      2011|      3.0|\n",
      "|2014|      1992|     22.0|\n",
      "|2014|      1999|     15.0|\n",
      "+----+----------+---------+\n",
      "only showing top 5 rows\n",
      "\n"
     ]
    }
   ],
   "source": [
    "# Create the column plane_age\n",
    "model_data_df = (\n",
    "    model_data_df.withColumn(\"plane_age\", model_data_df.year - model_data_df.plane_year))\n",
    "\n",
    "model_data_df.select(\"year\", \"plane_year\", \"plane_age\").show(5)"
   ]
  },
  {
   "cell_type": "markdown",
   "id": "062ad053",
   "metadata": {},
   "source": [
    "## Making a Boolean\n",
    "\n",
    "Consider that you're modeling a yes or no question: is the flight late? However, your data contains the arrival delay in minutes for each flight. Thus, you'll need to create a boolean column which indicates whether the flight was late or not!"
   ]
  },
  {
   "cell_type": "code",
   "execution_count": 12,
   "id": "f69e6fcd",
   "metadata": {},
   "outputs": [],
   "source": [
    "# Create is_late\n",
    "model_data_df = model_data_df.withColumn(\"is_late\", model_data_df.arr_delay > 0)\n",
    "\n",
    "# Convert to an integer\n",
    "model_data_df = model_data_df.withColumn(\"label\", model_data_df.is_late.cast(\"integer\"))\n",
    "\n",
    "# Remove missing values\n",
    "predicate = \"\"\"\n",
    "arr_delay is not NULL and\n",
    "dep_delay is not NULL and\n",
    "air_time is not NULL and\n",
    "plane_year is not NULL\n",
    "\"\"\"\n",
    "model_data_df = (\n",
    "    model_data_df.filter(predicate)\n",
    ")"
   ]
  },
  {
   "cell_type": "code",
   "execution_count": 13,
   "id": "6ec9af8d",
   "metadata": {},
   "outputs": [
    {
     "name": "stdout",
     "output_type": "stream",
     "text": [
      "+-------+-----+\n",
      "|is_late|label|\n",
      "+-------+-----+\n",
      "|  false|    0|\n",
      "|   true|    1|\n",
      "|   true|    1|\n",
      "|   true|    1|\n",
      "|   true|    1|\n",
      "+-------+-----+\n",
      "only showing top 5 rows\n",
      "\n"
     ]
    }
   ],
   "source": [
    "model_data_df.select(\"is_late\", \"label\").show(5)"
   ]
  },
  {
   "cell_type": "markdown",
   "id": "e1a94790",
   "metadata": {},
   "source": [
    "## Strings and factors\n",
    "\n",
    "As you know, Spark requires numeric data for modeling. So far this hasn't been an issue; even boolean columns can easily be converted to integers without any trouble. But you'll also be using the airline and the plane's destination as features in your model. These are coded as strings and there isn't any obvious way to convert them to a numeric data type.\n",
    "\n",
    "Fortunately, PySpark has functions for handling this built into the `pyspark.ml.feature` submodule. You can create what are called 'one-hot vectors' to represent the carrier and the destination of each flight. A one-hot vector is a way of representing a categorical feature where every observation has a vector in which all elements are zero except for at most one element, which has a value of one (1).\n",
    "\n",
    "Each element in the vector corresponds to a level of the feature, so it's possible to tell what the right level is by seeing which element of the vector is equal to one (1).\n",
    "\n",
    "The first step to encoding your categorical feature is to create a `StringIndexer`. Members of this class are `Estimators` that take a DataFrame with a column of strings and map each unique string to a number. Then, the `Estimator` returns a `Transformer` that takes a DataFrame, attaches the mapping to it as metadata, and returns a new DataFrame with a numeric column corresponding to the string column.\n",
    "\n",
    "The second step is to encode this numeric column as a one-hot vector using a `OneHotEncoder`. This works exactly the same way as the `StringIndexer` by creating an `Estimator` and then a `Transformer`. The end result is a column that encodes your categorical feature as a vector that's suitable for machine learning routines!\n",
    "\n",
    "This may seem complicated, but don't worry! All you have to remember is that you need to create a `StringIndexer` and a `OneHotEncoder`, and the `Pipeline` will take care of the rest."
   ]
  },
  {
   "cell_type": "markdown",
   "id": "5d12e172",
   "metadata": {},
   "source": [
    "## Carrier\n",
    "\n",
    "In this section, we'll create a `StringIndexer` and a `OneHotEncoder` to code the `carrier` column. To do this, we'll call the class constructors with the arguments `inputCol` and `outputCol`.\n",
    "\n",
    "The `inputCol` is the name of the column you want to index or encode, and the `outputCol` is the name of the new column that the `Transformer` should create."
   ]
  },
  {
   "cell_type": "code",
   "execution_count": 14,
   "id": "5f41ccc0",
   "metadata": {},
   "outputs": [],
   "source": [
    "from pyspark.ml.feature import OneHotEncoder, StringIndexer"
   ]
  },
  {
   "cell_type": "code",
   "execution_count": 15,
   "id": "52d6e42c",
   "metadata": {},
   "outputs": [],
   "source": [
    "# Create a StringIndexer\n",
    "carr_indexer = StringIndexer(inputCol=\"carrier\", outputCol=\"carrier_index\")\n",
    "\n",
    "# Create a OneHotEncoder\n",
    "carr_encoder = OneHotEncoder(inputCol=\"carrier_index\", outputCol=\"carrier_fact\")"
   ]
  },
  {
   "cell_type": "markdown",
   "id": "a986a05e",
   "metadata": {},
   "source": [
    "## Destination\n",
    "\n",
    "Now we'll encode the `dest` column just like we did in the section above."
   ]
  },
  {
   "cell_type": "code",
   "execution_count": 16,
   "id": "9e657b14",
   "metadata": {},
   "outputs": [],
   "source": [
    "# Create a StringIndexer\n",
    "dest_indexer = StringIndexer(inputCol=\"dest\", outputCol=\"dest_index\")\n",
    "\n",
    "# Create a OneHotEncoder\n",
    "dest_encoder = OneHotEncoder(inputCol=\"dest_index\", outputCol=\"dest_fact\")"
   ]
  },
  {
   "cell_type": "markdown",
   "id": "b806ffb4",
   "metadata": {},
   "source": [
    "## Assemble a vector\n",
    "\n",
    "The last step in the Pipeline is to combine all of the columns containing our features into a single column. This has to be done before modeling can take place because every Spark modeling routine expects the data to be in this form. You can do this by storing each of the values from a column as an entry in a vector. Then, from the model's point of view, every observation is a vector that contains all of the information about it and a label that tells the modeler what value that observation corresponds to.\n",
    "\n",
    "Because of this, the pyspark.ml.feature submodule contains a class called VectorAssembler. This Transformer takes all of the columns you specify and combines them into a new vector column."
   ]
  },
  {
   "cell_type": "code",
   "execution_count": 17,
   "id": "b2b94979",
   "metadata": {},
   "outputs": [],
   "source": [
    "# Make a VectorAssembler\n",
    "from pyspark.ml.feature import VectorAssembler\n",
    "\n",
    "vec_assembler = VectorAssembler(\n",
    "    inputCols=[\"month\", \"air_time\", \"carrier_fact\", \"dest_fact\", \"plane_age\"],\n",
    "    outputCol=\"features\")"
   ]
  },
  {
   "cell_type": "markdown",
   "id": "cf65a0f5",
   "metadata": {},
   "source": [
    "## Create the pipeline\n",
    "\n",
    "Finally, we are going to create a `Pipeline`.\n",
    "\n",
    "`Pipeline` is a class in the `pyspark.ml` module that combines all the `Estimators` and `Transformers` that we've already created. This lets us reuse the same modeling process over and over again by wrapping it up in one simple object."
   ]
  },
  {
   "cell_type": "code",
   "execution_count": 18,
   "id": "1f945c80",
   "metadata": {},
   "outputs": [],
   "source": [
    "from pyspark.ml import Pipeline\n",
    "\n",
    "# Make the Pipeline\n",
    "flights_pipeline = Pipeline(\n",
    "    stages=[dest_indexer, dest_encoder, carr_indexer, carr_encoder, vec_assembler]\n",
    ")"
   ]
  },
  {
   "cell_type": "markdown",
   "id": "099de040",
   "metadata": {},
   "source": [
    "## Test vs Train\n",
    "\n",
    "After you've cleaned your data and gotten it ready for modeling, one of the most important steps is to split the data into a test set and a train set. After that, don't touch your test data until you think you have a good model! As you're building models and forming hypotheses, you can test them on your training data to get an idea of their performance.\n",
    "\n",
    "Once you've got your favorite model, you can see how well it predicts the new data in your test set. This never-before-seen data will give you a much more realistic idea of your model's performance in the real world when you're trying to predict or classify new data.\n",
    "\n",
    "In Spark it's important to make sure you split the data **after** all the transformations. This is because operations like `StringIndexer` don't always produce the same index even when given the same list of strings."
   ]
  },
  {
   "cell_type": "markdown",
   "id": "8dc45030",
   "metadata": {},
   "source": [
    "## Transform the data\n",
    "\n",
    "We're now finnaly ready to pass our data through the `Pipeline` we created."
   ]
  },
  {
   "cell_type": "code",
   "execution_count": 19,
   "id": "628572d7",
   "metadata": {},
   "outputs": [],
   "source": [
    "# Fit and transform the data\n",
    "piped_data = flights_pipeline.fit(model_data_df).transform(model_data_df)"
   ]
  },
  {
   "cell_type": "code",
   "execution_count": 20,
   "id": "df293a27",
   "metadata": {},
   "outputs": [
    {
     "name": "stdout",
     "output_type": "stream",
     "text": [
      "+---------+-----+----------+---------------+-------------+--------------+--------------------+\n",
      "|plane_age|label|dest_index|      dest_fact|carrier_index|  carrier_fact|            features|\n",
      "+---------+-----+----------+---------------+-------------+--------------+--------------------+\n",
      "|      3.0|    0|       1.0| (68,[1],[1.0])|          7.0|(10,[7],[1.0])|(81,[0,1,9,13,80]...|\n",
      "|      8.0|    1|      19.0|(68,[19],[1.0])|          0.0|(10,[0],[1.0])|(81,[0,1,2,31,80]...|\n",
      "|      3.0|    1|       0.0| (68,[0],[1.0])|          7.0|(10,[7],[1.0])|(81,[0,1,9,12,80]...|\n",
      "|     22.0|    1|       7.0| (68,[7],[1.0])|          1.0|(10,[1],[1.0])|(81,[0,1,3,19,80]...|\n",
      "|     15.0|    1|      22.0|(68,[22],[1.0])|          0.0|(10,[0],[1.0])|(81,[0,1,2,34,80]...|\n",
      "+---------+-----+----------+---------------+-------------+--------------+--------------------+\n",
      "only showing top 5 rows\n",
      "\n"
     ]
    }
   ],
   "source": [
    "selected_cols = [\"plane_age\", \"label\", \"dest_index\", \"dest_fact\", \"carrier_index\", \"carrier_fact\", \"features\"]\n",
    "piped_data.select(*selected_cols).show(5)"
   ]
  },
  {
   "cell_type": "markdown",
   "id": "694202ea",
   "metadata": {},
   "source": [
    "## Split the data\n",
    "\n",
    "Now that we've done all our manipulations, the last step before modeling is to split the data."
   ]
  },
  {
   "cell_type": "code",
   "execution_count": 21,
   "id": "79186a85",
   "metadata": {},
   "outputs": [],
   "source": [
    "# Split the data into training and test sets\n",
    "training, test = piped_data.randomSplit([0.60, 0.40])"
   ]
  },
  {
   "cell_type": "markdown",
   "id": "861041e1",
   "metadata": {},
   "source": [
    "## Create the modeler\n",
    "\n",
    "The `Estimator` we'll be using is a LogisticRegression from the `pyspark.ml.classification` submodule."
   ]
  },
  {
   "cell_type": "code",
   "execution_count": 22,
   "id": "bba37857",
   "metadata": {},
   "outputs": [],
   "source": [
    "from pyspark.ml.classification import LogisticRegression\n",
    "\n",
    "# Create a LogisticRegression Estimator\n",
    "logreg = LogisticRegression()"
   ]
  },
  {
   "cell_type": "markdown",
   "id": "32b48b7a",
   "metadata": {},
   "source": [
    "## Cross validation\n",
    "\n",
    "In the next few section we'll be tuning our logistic regression model using a procedure called k-fold cross validation. This is a method of estimating the model's performance on unseen data (like the `test` DataFrame).\n",
    "\n",
    "It works by splitting the training data into a few different partitions. The exact number is up to you, but in this course you'll be using PySpark's default value of three. Once the data is split up, one of the partitions is set aside, and the model is fit to the others. Then the error is measured against the held out partition. This is repeated for each of the partitions, so that every block of data is held out and used as a test set exactly once. Then the error on each of the partitions is averaged. This is called the cross validation error of the model, and is a good estimate of the actual error on the held out data.\n",
    "\n",
    "You'll be using cross validation to choose the hyperparameters by creating a grid of the possible pairs of values for the two hyperparameters, `elasticNetParam` and `regParam`, and using the cross validation error to compare all the different models so you can choose the best one!"
   ]
  },
  {
   "cell_type": "markdown",
   "id": "6bb2207f",
   "metadata": {},
   "source": [
    "## Create the evaluator\n",
    "\n",
    "The first thing you need when doing cross validation for model selection is a way to compare different models. Luckily, the `pyspark.ml.evaluation` submodule has classes for evaluating different kinds of models. Your model is a binary classification model, so you'll be using the `BinaryClassificationEvaluator` from the `pyspark.ml.evaluation` module.\n",
    "\n",
    "This evaluator calculates the area under the ROC. This is a metric that combines the two kinds of errors a binary classifier can make (false positives and false negatives) into a simple number. "
   ]
  },
  {
   "cell_type": "code",
   "execution_count": 23,
   "id": "e718a23f",
   "metadata": {},
   "outputs": [],
   "source": [
    "import pyspark.ml.evaluation as evals\n",
    "\n",
    "# Create a BinaryClassificationEvaluator\n",
    "evaluator = evals.BinaryClassificationEvaluator(metricName=\"areaUnderROC\")"
   ]
  },
  {
   "cell_type": "markdown",
   "id": "c87eca6f",
   "metadata": {},
   "source": [
    "## Make a grid\n",
    "\n",
    "Next, we need to create a grid of values to search over when looking for the optimal hyperparameters. The submodule `pyspark.ml.tuning` includes a class called `ParamGridBuilder` that does just that (maybe you're starting to notice a pattern here; PySpark has a submodule for just about everything!).\n",
    "\n",
    "We'll need to use the `.addGrid()` and `.build()` methods to create a grid that we can use for cross validation. The `.addGrid()` method takes a model parameter (an attribute of the model `Estimator`, `logreg`, that we created earlier) and a list of values that we want to try. The `.build()` method takes no arguments, it just returns the grid that we'll use later."
   ]
  },
  {
   "cell_type": "code",
   "execution_count": 24,
   "id": "02a9edc3",
   "metadata": {},
   "outputs": [],
   "source": [
    "import numpy as np\n",
    "import pyspark.ml.tuning as tune\n",
    "\n",
    "# Create the parameter grid\n",
    "grid = tune.ParamGridBuilder()\n",
    "\n",
    "# Add the hyperparamter\n",
    "grid = grid.addGrid(logreg.regParam, np.arange(0, 0.1, 0.01))\n",
    "grid = grid.addGrid(logreg.elasticNetParam, [0, 1])\n",
    "\n",
    "# Build the grid\n",
    "grid = grid.build()"
   ]
  },
  {
   "cell_type": "markdown",
   "id": "05824874",
   "metadata": {},
   "source": [
    "## Make the validator\n",
    "\n",
    "The submodule `pyspark.ml.tuning` also has a class called `CrossValidator` for performing cross validation. This `Estimator` takes the modeler we want to fit, the grid of hyperparameters we created, and the evaluator we want to use to compare our models.\n",
    "\n",
    "The submodule `pyspark.ml.tuning` has already been imported as tune. We'll create the CrossValidator by passing it the logistic regression Estimator `logreg`, the parameter grid, and the evaluator we created in the previous sections."
   ]
  },
  {
   "cell_type": "code",
   "execution_count": 25,
   "id": "75930437",
   "metadata": {},
   "outputs": [],
   "source": [
    "# Create the CrossValidator\n",
    "\n",
    "cv = tune.CrossValidator(estimator=logreg,\n",
    "                         estimatorParamMaps=grid,\n",
    "                         evaluator=evaluator)"
   ]
  },
  {
   "cell_type": "markdown",
   "id": "83b29af4",
   "metadata": {},
   "source": [
    "## Fit the model(s)\n",
    "\n",
    "We're finally ready to fit the models and select the best one!\n",
    "\n",
    "Remember, the training data is called `training` and we're using logreg to fit a logistic regression model. Cross validation selected the parameter values `regParam=0` and `elasticNetParam=0` as being the best. These are the default values, so we don't need to do anything else with `logreg` before fitting the model."
   ]
  },
  {
   "cell_type": "code",
   "execution_count": 26,
   "id": "63a2f11e",
   "metadata": {},
   "outputs": [
    {
     "name": "stderr",
     "output_type": "stream",
     "text": [
      "                                                                                \r"
     ]
    },
    {
     "name": "stdout",
     "output_type": "stream",
     "text": [
      "LogisticRegressionModel: uid=LogisticRegression_ecbe871fad74, numClasses=2, numFeatures=81\n"
     ]
    }
   ],
   "source": [
    "# Fit cross validation models\n",
    "models = cv.fit(training)\n",
    "\n",
    "# Extract the best model\n",
    "best_logreg = models.bestModel\n",
    "\n",
    "# Print best_logreg\n",
    "print(best_logreg)"
   ]
  },
  {
   "cell_type": "markdown",
   "id": "ff219bcc",
   "metadata": {},
   "source": [
    "## Evaluating binary classifiers\n",
    "\n",
    "For this section we'll be using a common metric for binary classification algorithms call the AUC, or area under the curve. In this case, the curve is the ROC, or receiver operating curve. The closer the AUC is to one (1), the better the model is!"
   ]
  },
  {
   "cell_type": "markdown",
   "id": "cc1661d6",
   "metadata": {},
   "source": [
    "## Evaluate the model\n",
    "\n",
    "We are now going to use the test data that we set aside in the splitting the data section. We'll use the same evaluator to we made to fit the model."
   ]
  },
  {
   "cell_type": "code",
   "execution_count": 27,
   "id": "6aea0b8a",
   "metadata": {},
   "outputs": [
    {
     "name": "stdout",
     "output_type": "stream",
     "text": [
      "0.6809478451908038\n"
     ]
    }
   ],
   "source": [
    "# Use the model to predict the test set\n",
    "test_results = best_logreg.transform(test)\n",
    "\n",
    "# Evaluate the predictions\n",
    "print(evaluator.evaluate(test_results))"
   ]
  }
 ],
 "metadata": {
  "kernelspec": {
   "display_name": "Python 3 (ipykernel)",
   "language": "python",
   "name": "python3"
  },
  "language_info": {
   "codemirror_mode": {
    "name": "ipython",
    "version": 3
   },
   "file_extension": ".py",
   "mimetype": "text/x-python",
   "name": "python",
   "nbconvert_exporter": "python",
   "pygments_lexer": "ipython3",
   "version": "3.8.11"
  }
 },
 "nbformat": 4,
 "nbformat_minor": 5
}
