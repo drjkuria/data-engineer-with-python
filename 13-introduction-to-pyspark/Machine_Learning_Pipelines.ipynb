{
 "cells": [
  {
   "cell_type": "markdown",
   "id": "a0030e40",
   "metadata": {},
   "source": [
    "# Machine Learning Pipelines\n",
    "\n",
    "PySpark machine learning is found in the `pyspark.ml` module. At the core of the `pyspark.ml` module are the `Transformer` and `Estimator` classes. Almost every other class in the module behaves similarly to these two basic classes.\n",
    "\n",
    "`Transformer` classes have a `.transform()` method that takes a DataFrame and returns a new DataFrame; usually the original one with a new column appended. For example, you might use the class `Bucketizer` to create discrete bins from a continuous feature or the class `PCA` to reduce the dimensionality of your dataset using principal component analysis.\n",
    "\n",
    "`Estimator` classes all implement a `.fit()` method. These methods also take a DataFrame, but instead of returning another DataFrame they return a model object. This can be something like a `StringIndexerModel` for including categorical data saved as strings in your models, or a `RandomForestModel` that uses the random forest algorithm for classification or regression."
   ]
  },
  {
   "cell_type": "markdown",
   "id": "9db2a889",
   "metadata": {},
   "source": [
    "## Imports"
   ]
  },
  {
   "cell_type": "code",
   "execution_count": 1,
   "id": "c35aa49f",
   "metadata": {},
   "outputs": [],
   "source": [
    "import findspark\n",
    "findspark.init()\n",
    "\n",
    "from pyspark.sql import SparkSession"
   ]
  },
  {
   "cell_type": "markdown",
   "id": "fdad5903",
   "metadata": {},
   "source": [
    "## SparkSession"
   ]
  },
  {
   "cell_type": "code",
   "execution_count": 2,
   "id": "d70fb91a",
   "metadata": {},
   "outputs": [],
   "source": [
    "spark = (SparkSession\n",
    "    .builder\n",
    "    .getOrCreate()\n",
    ")"
   ]
  },
  {
   "cell_type": "markdown",
   "id": "bebb9230",
   "metadata": {},
   "source": [
    "## Display setting"
   ]
  },
  {
   "cell_type": "code",
   "execution_count": 3,
   "id": "cbaffc03",
   "metadata": {},
   "outputs": [
    {
     "data": {
      "text/html": [
       "<style>pre {white-space: pre !important; }</style>"
      ],
      "text/plain": [
       "<IPython.core.display.HTML object>"
      ]
     },
     "metadata": {},
     "output_type": "display_data"
    }
   ],
   "source": [
    "from IPython.core.display import HTML\n",
    "display(HTML(\"<style>pre {white-space: pre !important; }</style>\"))"
   ]
  },
  {
   "cell_type": "markdown",
   "id": "716ff1f6",
   "metadata": {},
   "source": [
    "## Load the data"
   ]
  },
  {
   "cell_type": "code",
   "execution_count": 4,
   "id": "7b6fae4d",
   "metadata": {},
   "outputs": [
    {
     "name": "stdout",
     "output_type": "stream",
     "text": [
      "+----+-----+---+--------+---------+--------+---------+-------+-------+------+------+----+--------+--------+----+------+\n",
      "|year|month|day|dep_time|dep_delay|arr_time|arr_delay|carrier|tailnum|flight|origin|dest|air_time|distance|hour|minute|\n",
      "+----+-----+---+--------+---------+--------+---------+-------+-------+------+------+----+--------+--------+----+------+\n",
      "|2014|   12|  8|     658|       -7|     935|       -5|     VX| N846VA|  1780|   SEA| LAX|     132|     954|   6|    58|\n",
      "|2014|    1| 22|    1040|        5|    1505|        5|     AS| N559AS|   851|   SEA| HNL|     360|    2677|  10|    40|\n",
      "|2014|    3|  9|    1443|       -2|    1652|        2|     VX| N847VA|   755|   SEA| SFO|     111|     679|  14|    43|\n",
      "|2014|    4|  9|    1705|       45|    1839|       34|     WN| N360SW|   344|   PDX| SJC|      83|     569|  17|     5|\n",
      "|2014|    3|  9|     754|       -1|    1015|        1|     AS| N612AS|   522|   SEA| BUR|     127|     937|   7|    54|\n",
      "+----+-----+---+--------+---------+--------+---------+-------+-------+------+------+----+--------+--------+----+------+\n",
      "only showing top 5 rows\n",
      "\n"
     ]
    }
   ],
   "source": [
    "# Load the flights data\n",
    "\n",
    "import os\n",
    "from pyspark.sql.types import StructField, StructType, StringType, IntegerType\n",
    "\n",
    "data_path = 'file:///' + os.getcwd() + '/data'\n",
    "\n",
    "flights_path = data_path + '/flights_small.csv'\n",
    "\n",
    "flights_df = (\n",
    "    spark.read\n",
    "        .option(\"header\", True)\n",
    "        .csv(flights_path)\n",
    ")\n",
    "\n",
    "flights_df.show(5)"
   ]
  },
  {
   "cell_type": "code",
   "execution_count": 5,
   "id": "37faeaea",
   "metadata": {},
   "outputs": [
    {
     "name": "stdout",
     "output_type": "stream",
     "text": [
      "+-------+----+--------------------+----------------+--------+-------+-----+-----+---------+\n",
      "|tailnum|year|                type|    manufacturer|   model|engines|seats|speed|   engine|\n",
      "+-------+----+--------------------+----------------+--------+-------+-----+-----+---------+\n",
      "| N102UW|1998|Fixed wing multi ...|AIRBUS INDUSTRIE|A320-214|      2|  182|   NA|Turbo-fan|\n",
      "| N103US|1999|Fixed wing multi ...|AIRBUS INDUSTRIE|A320-214|      2|  182|   NA|Turbo-fan|\n",
      "| N104UW|1999|Fixed wing multi ...|AIRBUS INDUSTRIE|A320-214|      2|  182|   NA|Turbo-fan|\n",
      "| N105UW|1999|Fixed wing multi ...|AIRBUS INDUSTRIE|A320-214|      2|  182|   NA|Turbo-fan|\n",
      "| N107US|1999|Fixed wing multi ...|AIRBUS INDUSTRIE|A320-214|      2|  182|   NA|Turbo-fan|\n",
      "+-------+----+--------------------+----------------+--------+-------+-----+-----+---------+\n",
      "only showing top 5 rows\n",
      "\n"
     ]
    }
   ],
   "source": [
    "# Load the planes data\n",
    "\n",
    "planes_path = data_path + '/planes.csv'\n",
    "planes_df = (\n",
    "    spark.read\n",
    "        .option(\"header\", True)\n",
    "        .csv(planes_path)\n",
    ")\n",
    "planes_df.show(5)"
   ]
  },
  {
   "cell_type": "code",
   "execution_count": 6,
   "id": "6d085697",
   "metadata": {},
   "outputs": [],
   "source": [
    "# Rename the year column of planes\n",
    "# This is to avoid dupliucate names during joining \n",
    "\n",
    "planes_df = planes_df.withColumnRenamed(\"year\", \"plane_year\")"
   ]
  },
  {
   "cell_type": "code",
   "execution_count": 7,
   "id": "3bcd0be5",
   "metadata": {},
   "outputs": [],
   "source": [
    "# Join the DataFrames\n",
    "\n",
    "model_data_df = flights_df.join(planes_df, on=\"tailnum\", how=\"leftouter\")"
   ]
  },
  {
   "cell_type": "code",
   "execution_count": 8,
   "id": "6d5baddd",
   "metadata": {},
   "outputs": [
    {
     "name": "stdout",
     "output_type": "stream",
     "text": [
      "+-------+----+-----+---+--------+---------+--------+---------+-------+------+------+----+--------+--------+----+------+----------+--------------------+------------+--------+-------+-----+-----+---------+\n",
      "|tailnum|year|month|day|dep_time|dep_delay|arr_time|arr_delay|carrier|flight|origin|dest|air_time|distance|hour|minute|plane_year|                type|manufacturer|   model|engines|seats|speed|   engine|\n",
      "+-------+----+-----+---+--------+---------+--------+---------+-------+------+------+----+--------+--------+----+------+----------+--------------------+------------+--------+-------+-----+-----+---------+\n",
      "| N846VA|2014|   12|  8|     658|       -7|     935|       -5|     VX|  1780|   SEA| LAX|     132|     954|   6|    58|      2011|Fixed wing multi ...|      AIRBUS|A320-214|      2|  182|   NA|Turbo-fan|\n",
      "| N559AS|2014|    1| 22|    1040|        5|    1505|        5|     AS|   851|   SEA| HNL|     360|    2677|  10|    40|      2006|Fixed wing multi ...|      BOEING| 737-890|      2|  149|   NA|Turbo-fan|\n",
      "| N847VA|2014|    3|  9|    1443|       -2|    1652|        2|     VX|   755|   SEA| SFO|     111|     679|  14|    43|      2011|Fixed wing multi ...|      AIRBUS|A320-214|      2|  182|   NA|Turbo-fan|\n",
      "| N360SW|2014|    4|  9|    1705|       45|    1839|       34|     WN|   344|   PDX| SJC|      83|     569|  17|     5|      1992|Fixed wing multi ...|      BOEING| 737-3H4|      2|  149|   NA|Turbo-fan|\n",
      "| N612AS|2014|    3|  9|     754|       -1|    1015|        1|     AS|   522|   SEA| BUR|     127|     937|   7|    54|      1999|Fixed wing multi ...|      BOEING| 737-790|      2|  151|   NA|Turbo-jet|\n",
      "+-------+----+-----+---+--------+---------+--------+---------+-------+------+------+----+--------+--------+----+------+----------+--------------------+------------+--------+-------+-----+-----+---------+\n",
      "only showing top 5 rows\n",
      "\n"
     ]
    }
   ],
   "source": [
    "model_data_df.show(5)"
   ]
  },
  {
   "cell_type": "markdown",
   "id": "0628c757",
   "metadata": {},
   "source": [
    "## String to integer\n",
    "\n",
    "Sometimes Spark does not infer the data types in a dataset correctly. To remedy this, we can use the `.cast()` method to convert all the appropriate columns from our DataFrame to the correct data type."
   ]
  },
  {
   "cell_type": "code",
   "execution_count": 9,
   "id": "07936119",
   "metadata": {},
   "outputs": [
    {
     "name": "stdout",
     "output_type": "stream",
     "text": [
      "root\n",
      " |-- tailnum: string (nullable = true)\n",
      " |-- year: string (nullable = true)\n",
      " |-- month: string (nullable = true)\n",
      " |-- day: string (nullable = true)\n",
      " |-- dep_time: string (nullable = true)\n",
      " |-- dep_delay: string (nullable = true)\n",
      " |-- arr_time: string (nullable = true)\n",
      " |-- arr_delay: string (nullable = true)\n",
      " |-- carrier: string (nullable = true)\n",
      " |-- flight: string (nullable = true)\n",
      " |-- origin: string (nullable = true)\n",
      " |-- dest: string (nullable = true)\n",
      " |-- air_time: string (nullable = true)\n",
      " |-- distance: string (nullable = true)\n",
      " |-- hour: string (nullable = true)\n",
      " |-- minute: string (nullable = true)\n",
      " |-- plane_year: string (nullable = true)\n",
      " |-- type: string (nullable = true)\n",
      " |-- manufacturer: string (nullable = true)\n",
      " |-- model: string (nullable = true)\n",
      " |-- engines: string (nullable = true)\n",
      " |-- seats: string (nullable = true)\n",
      " |-- speed: string (nullable = true)\n",
      " |-- engine: string (nullable = true)\n",
      "\n"
     ]
    }
   ],
   "source": [
    "# Print the current data types\n",
    "model_data_df.printSchema()"
   ]
  },
  {
   "cell_type": "markdown",
   "id": "504d6e93",
   "metadata": {},
   "source": [
    "As shown above, all the columns are of the string data type. Let's cast some columns from string to integers using the `.cast()` method."
   ]
  },
  {
   "cell_type": "code",
   "execution_count": 10,
   "id": "5b584d2c",
   "metadata": {},
   "outputs": [
    {
     "name": "stdout",
     "output_type": "stream",
     "text": [
      "root\n",
      " |-- tailnum: string (nullable = true)\n",
      " |-- year: string (nullable = true)\n",
      " |-- month: integer (nullable = true)\n",
      " |-- day: string (nullable = true)\n",
      " |-- dep_time: string (nullable = true)\n",
      " |-- dep_delay: string (nullable = true)\n",
      " |-- arr_time: string (nullable = true)\n",
      " |-- arr_delay: integer (nullable = true)\n",
      " |-- carrier: string (nullable = true)\n",
      " |-- flight: string (nullable = true)\n",
      " |-- origin: string (nullable = true)\n",
      " |-- dest: string (nullable = true)\n",
      " |-- air_time: integer (nullable = true)\n",
      " |-- distance: string (nullable = true)\n",
      " |-- hour: string (nullable = true)\n",
      " |-- minute: string (nullable = true)\n",
      " |-- plane_year: integer (nullable = true)\n",
      " |-- type: string (nullable = true)\n",
      " |-- manufacturer: string (nullable = true)\n",
      " |-- model: string (nullable = true)\n",
      " |-- engines: string (nullable = true)\n",
      " |-- seats: string (nullable = true)\n",
      " |-- speed: string (nullable = true)\n",
      " |-- engine: string (nullable = true)\n",
      "\n"
     ]
    }
   ],
   "source": [
    "# Cast the columns to integers\n",
    "model_data_df = model_data_df.withColumn(\"arr_delay\", model_data_df.arr_delay.cast(\"integer\"))\n",
    "model_data_df = model_data_df.withColumn(\"air_time\", model_data_df.air_time.cast(\"integer\"))\n",
    "model_data_df = model_data_df.withColumn(\"month\", model_data_df.month.cast(\"integer\"))\n",
    "model_data_df = model_data_df.withColumn(\"plane_year\", model_data_df.plane_year.cast(\"integer\"))\n",
    "\n",
    "model_data_df.printSchema()"
   ]
  },
  {
   "cell_type": "markdown",
   "id": "5a6f0453",
   "metadata": {},
   "source": [
    "Notice the changes in data types of the columns in the schema above."
   ]
  },
  {
   "cell_type": "markdown",
   "id": "2e138638",
   "metadata": {},
   "source": [
    "## Create a new column\n",
    "\n",
    "We are going to create a new column `plane_age` to be used in our model. This is slightly different from the year it was made."
   ]
  },
  {
   "cell_type": "code",
   "execution_count": 11,
   "id": "4a45a640",
   "metadata": {},
   "outputs": [
    {
     "name": "stdout",
     "output_type": "stream",
     "text": [
      "+----+----------+---------+\n",
      "|year|plane_year|plane_age|\n",
      "+----+----------+---------+\n",
      "|2014|      2011|      3.0|\n",
      "|2014|      2006|      8.0|\n",
      "|2014|      2011|      3.0|\n",
      "|2014|      1992|     22.0|\n",
      "|2014|      1999|     15.0|\n",
      "+----+----------+---------+\n",
      "only showing top 5 rows\n",
      "\n"
     ]
    }
   ],
   "source": [
    "# Create the column plane_age\n",
    "model_data_df = (\n",
    "    model_data_df.withColumn(\"plane_age\", model_data_df.year - model_data_df.plane_year))\n",
    "\n",
    "model_data_df.select(\"year\", \"plane_year\", \"plane_age\").show(5)"
   ]
  },
  {
   "cell_type": "markdown",
   "id": "d88fd513",
   "metadata": {},
   "source": [
    "## Making a Boolean\n",
    "\n",
    "Consider that you're modeling a yes or no question: is the flight late? However, your data contains the arrival delay in minutes for each flight. Thus, you'll need to create a boolean column which indicates whether the flight was late or not!"
   ]
  },
  {
   "cell_type": "code",
   "execution_count": 12,
   "id": "cd71fc70",
   "metadata": {},
   "outputs": [],
   "source": [
    "# Create is_late\n",
    "model_data_df = model_data_df.withColumn(\"is_late\", model_data_df.arr_delay > 0)\n",
    "\n",
    "# Convert to an integer\n",
    "model_data_df = model_data_df.withColumn(\"label\", model_data_df.is_late.cast(\"integer\"))\n",
    "\n",
    "# Remove missing values\n",
    "predicate = \"\"\"\n",
    "arr_delay is not NULL and\n",
    "dep_delay is not NULL and\n",
    "air_time is not NULL and\n",
    "plane_year is not NULL\n",
    "\"\"\"\n",
    "model_data_df = (\n",
    "    model_data_df.filter(predicate)\n",
    ")"
   ]
  },
  {
   "cell_type": "code",
   "execution_count": 13,
   "id": "5806f107",
   "metadata": {},
   "outputs": [
    {
     "name": "stdout",
     "output_type": "stream",
     "text": [
      "+-------+-----+\n",
      "|is_late|label|\n",
      "+-------+-----+\n",
      "|  false|    0|\n",
      "|   true|    1|\n",
      "|   true|    1|\n",
      "|   true|    1|\n",
      "|   true|    1|\n",
      "+-------+-----+\n",
      "only showing top 5 rows\n",
      "\n"
     ]
    }
   ],
   "source": [
    "model_data_df.select(\"is_late\", \"label\").show(5)"
   ]
  },
  {
   "cell_type": "markdown",
   "id": "d3f886fa",
   "metadata": {},
   "source": [
    "## Strings and factors\n",
    "\n",
    "As you know, Spark requires numeric data for modeling. So far this hasn't been an issue; even boolean columns can easily be converted to integers without any trouble. But you'll also be using the airline and the plane's destination as features in your model. These are coded as strings and there isn't any obvious way to convert them to a numeric data type.\n",
    "\n",
    "Fortunately, PySpark has functions for handling this built into the `pyspark.ml.feature` submodule. You can create what are called 'one-hot vectors' to represent the carrier and the destination of each flight. A one-hot vector is a way of representing a categorical feature where every observation has a vector in which all elements are zero except for at most one element, which has a value of one (1).\n",
    "\n",
    "Each element in the vector corresponds to a level of the feature, so it's possible to tell what the right level is by seeing which element of the vector is equal to one (1).\n",
    "\n",
    "The first step to encoding your categorical feature is to create a `StringIndexer`. Members of this class are `Estimators` that take a DataFrame with a column of strings and map each unique string to a number. Then, the `Estimator` returns a `Transformer` that takes a DataFrame, attaches the mapping to it as metadata, and returns a new DataFrame with a numeric column corresponding to the string column.\n",
    "\n",
    "The second step is to encode this numeric column as a one-hot vector using a `OneHotEncoder`. This works exactly the same way as the `StringIndexer` by creating an `Estimator` and then a `Transformer`. The end result is a column that encodes your categorical feature as a vector that's suitable for machine learning routines!\n",
    "\n",
    "This may seem complicated, but don't worry! All you have to remember is that you need to create a `StringIndexer` and a `OneHotEncoder`, and the `Pipeline` will take care of the rest."
   ]
  },
  {
   "cell_type": "markdown",
   "id": "38c90a77",
   "metadata": {},
   "source": [
    "## Carrier\n",
    "\n",
    "In this section, we'll create a `StringIndexer` and a `OneHotEncoder` to code the `carrier` column. To do this, we'll call the class constructors with the arguments `inputCol` and `outputCol`.\n",
    "\n",
    "The `inputCol` is the name of the column you want to index or encode, and the `outputCol` is the name of the new column that the `Transformer` should create."
   ]
  },
  {
   "cell_type": "code",
   "execution_count": 14,
   "id": "a758154e",
   "metadata": {},
   "outputs": [],
   "source": [
    "from pyspark.ml.feature import OneHotEncoder, StringIndexer"
   ]
  },
  {
   "cell_type": "code",
   "execution_count": 15,
   "id": "b8004b14",
   "metadata": {},
   "outputs": [],
   "source": [
    "# Create a StringIndexer\n",
    "carr_indexer = StringIndexer(inputCol=\"carrier\", outputCol=\"carrier_index\")\n",
    "\n",
    "# Create a OneHotEncoder\n",
    "carr_encoder = OneHotEncoder(inputCol=\"carrier_index\", outputCol=\"carrier_fact\")"
   ]
  },
  {
   "cell_type": "markdown",
   "id": "fce17075",
   "metadata": {},
   "source": [
    "## Destination\n",
    "\n",
    "Now we'll encode the `dest` column just like we did in the section above."
   ]
  },
  {
   "cell_type": "code",
   "execution_count": 16,
   "id": "add192a7",
   "metadata": {},
   "outputs": [],
   "source": [
    "# Create a StringIndexer\n",
    "dest_indexer = StringIndexer(inputCol=\"dest\", outputCol=\"dest_index\")\n",
    "\n",
    "# Create a OneHotEncoder\n",
    "dest_encoder = OneHotEncoder(inputCol=\"dest_index\", outputCol=\"dest_fact\")"
   ]
  },
  {
   "cell_type": "markdown",
   "id": "2aa7b3ea",
   "metadata": {},
   "source": [
    "## Assemble a vector\n",
    "\n",
    "The last step in the Pipeline is to combine all of the columns containing our features into a single column. This has to be done before modeling can take place because every Spark modeling routine expects the data to be in this form. You can do this by storing each of the values from a column as an entry in a vector. Then, from the model's point of view, every observation is a vector that contains all of the information about it and a label that tells the modeler what value that observation corresponds to.\n",
    "\n",
    "Because of this, the pyspark.ml.feature submodule contains a class called VectorAssembler. This Transformer takes all of the columns you specify and combines them into a new vector column.\n"
   ]
  },
  {
   "cell_type": "code",
   "execution_count": 17,
   "id": "fac11456",
   "metadata": {},
   "outputs": [],
   "source": [
    "# Make a VectorAssembler\n",
    "from pyspark.ml.feature import VectorAssembler\n",
    "\n",
    "vec_assembler = VectorAssembler(\n",
    "    inputCols=[\"month\", \"air_time\", \"carrier_fact\", \"dest_fact\", \"plane_age\"],\n",
    "    outputCol=\"features\")"
   ]
  },
  {
   "cell_type": "markdown",
   "id": "5f0290e2",
   "metadata": {},
   "source": [
    "## Create the pipeline\n",
    "\n",
    "Finally, we are going to create a `Pipeline`.\n",
    "\n",
    "`Pipeline` is a class in the `pyspark.ml` module that combines all the `Estimators` and `Transformers` that we've already created. This lets us reuse the same modeling process over and over again by wrapping it up in one simple object."
   ]
  },
  {
   "cell_type": "code",
   "execution_count": 18,
   "id": "cae1d46d",
   "metadata": {},
   "outputs": [],
   "source": [
    "from pyspark.ml import Pipeline\n",
    "\n",
    "# Make the Pipeline\n",
    "flights_pipeline = Pipeline(\n",
    "    stages=[dest_indexer, dest_encoder, carr_indexer, carr_encoder, vec_assembler]\n",
    ")"
   ]
  },
  {
   "cell_type": "markdown",
   "id": "9403c5f9",
   "metadata": {},
   "source": [
    "## Test vs Train\n",
    "\n",
    "After you've cleaned your data and gotten it ready for modeling, one of the most important steps is to split the data into a test set and a train set. After that, don't touch your test data until you think you have a good model! As you're building models and forming hypotheses, you can test them on your training data to get an idea of their performance.\n",
    "\n",
    "Once you've got your favorite model, you can see how well it predicts the new data in your test set. This never-before-seen data will give you a much more realistic idea of your model's performance in the real world when you're trying to predict or classify new data.\n",
    "\n",
    "In Spark it's important to make sure you split the data **after** all the transformations. This is because operations like `StringIndexer` don't always produce the same index even when given the same list of strings."
   ]
  },
  {
   "cell_type": "markdown",
   "id": "86b43948",
   "metadata": {},
   "source": [
    "## Transform the data\n",
    "\n",
    "We're now finnaly ready to pass our data through the `Pipeline` we created."
   ]
  },
  {
   "cell_type": "code",
   "execution_count": 19,
   "id": "ad386476",
   "metadata": {},
   "outputs": [],
   "source": [
    "# Fit and transform the data\n",
    "piped_data = flights_pipeline.fit(model_data_df).transform(model_data_df)"
   ]
  },
  {
   "cell_type": "code",
   "execution_count": 20,
   "id": "cf98078e",
   "metadata": {},
   "outputs": [
    {
     "name": "stdout",
     "output_type": "stream",
     "text": [
      "+---------+-----+----------+---------------+-------------+--------------+--------------------+\n",
      "|plane_age|label|dest_index|      dest_fact|carrier_index|  carrier_fact|            features|\n",
      "+---------+-----+----------+---------------+-------------+--------------+--------------------+\n",
      "|      3.0|    0|       1.0| (68,[1],[1.0])|          7.0|(10,[7],[1.0])|(81,[0,1,9,13,80]...|\n",
      "|      8.0|    1|      19.0|(68,[19],[1.0])|          0.0|(10,[0],[1.0])|(81,[0,1,2,31,80]...|\n",
      "|      3.0|    1|       0.0| (68,[0],[1.0])|          7.0|(10,[7],[1.0])|(81,[0,1,9,12,80]...|\n",
      "|     22.0|    1|       7.0| (68,[7],[1.0])|          1.0|(10,[1],[1.0])|(81,[0,1,3,19,80]...|\n",
      "|     15.0|    1|      22.0|(68,[22],[1.0])|          0.0|(10,[0],[1.0])|(81,[0,1,2,34,80]...|\n",
      "+---------+-----+----------+---------------+-------------+--------------+--------------------+\n",
      "only showing top 5 rows\n",
      "\n"
     ]
    }
   ],
   "source": [
    "selected_cols = [\"plane_age\", \"label\", \"dest_index\", \"dest_fact\", \"carrier_index\", \"carrier_fact\", \"features\"]\n",
    "piped_data.select(*selected_cols).show(5)"
   ]
  },
  {
   "cell_type": "markdown",
   "id": "1f7fe514",
   "metadata": {},
   "source": [
    "## Split the data\n",
    "\n",
    "Now that we've done all our manipulations, the last step before modeling is to split the data."
   ]
  },
  {
   "cell_type": "code",
   "execution_count": 21,
   "id": "b1febc66",
   "metadata": {},
   "outputs": [],
   "source": [
    "# Split the data into training and test sets\n",
    "training, test = piped_data.randomSplit([0.60, 0.40])"
   ]
  }
 ],
 "metadata": {
  "kernelspec": {
   "display_name": "Python 3 (ipykernel)",
   "language": "python",
   "name": "python3"
  },
  "language_info": {
   "codemirror_mode": {
    "name": "ipython",
    "version": 3
   },
   "file_extension": ".py",
   "mimetype": "text/x-python",
   "name": "python",
   "nbconvert_exporter": "python",
   "pygments_lexer": "ipython3",
   "version": "3.8.11"
  }
 },
 "nbformat": 4,
 "nbformat_minor": 5
}
