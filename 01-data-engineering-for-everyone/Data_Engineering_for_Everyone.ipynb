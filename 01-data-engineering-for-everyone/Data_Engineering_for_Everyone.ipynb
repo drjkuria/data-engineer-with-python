{
 "cells": [
  {
   "cell_type": "markdown",
   "id": "f9586717",
   "metadata": {},
   "source": [
    "# Data Engineering for Everyone\n",
    "\n",
    "This notebook contains a conceptual course where no coding is involved.\n",
    "\n",
    "**Objectives:**\n",
    "- Being able to exchange with data engineers\n",
    "- Provide a solid foundation to learn more"
   ]
  },
  {
   "cell_type": "markdown",
   "id": "f33a674f",
   "metadata": {},
   "source": [
    "## 1. What is data engineering?\n",
    "\n",
    "In this section, we'll learn what data engineering is and why demand for them is increasing. We'll then discover where data engineering sits in relation to the data science lifecycle, how data engineers differ from data scientists, and have an introduction to your first complete data pipeline."
   ]
  },
  {
   "cell_type": "markdown",
   "id": "87095b59",
   "metadata": {},
   "source": [
    "## Data workflow\n",
    "\n",
    "The diagram below depicts the data workflow in an organization.\n",
    "\n",
    "\n",
    "<img style=\"float: left; \" src=\"images/workflow.png\" alt=\"workflow\" width=\"800\"/>\n",
    "<!-- ![workflow](images/workflow.png) -->"
   ]
  },
  {
   "cell_type": "markdown",
   "id": "bc1ec78c",
   "metadata": {},
   "source": [
    "## Data Egineers\n",
    "\n",
    "Data engineers deliver:\n",
    "\n",
    "- the correct data\n",
    "- in the right form\n",
    "- to the right people\n",
    "- as efficiently as possible"
   ]
  },
  {
   "cell_type": "markdown",
   "id": "be9299f3",
   "metadata": {},
   "source": [
    "## A data engineer's responsibilities\n",
    "\n",
    "- Ingest data from different sources\n",
    "- Optimize databases for analysis\n",
    "- Remove corrupted data\n",
    "- Develop, construct, test and maintain data architectures"
   ]
  },
  {
   "cell_type": "markdown",
   "id": "f999f9b8",
   "metadata": {},
   "source": [
    "## Data engineers and big data\n",
    "\n",
    "- Big data becomes the norm => data engineers are more and more needed\n",
    "- Big data:\n",
    "    - Have to think about how to deal with its size\n",
    "    - So large traditional methods don't work anymore"
   ]
  },
  {
   "cell_type": "markdown",
   "id": "5f702871",
   "metadata": {},
   "source": [
    "## Big data growth\n",
    "\n",
    "- Sensors and devices\n",
    "- Social media\n",
    "- Enterprise data\n",
    "- VoIP (voice communication, multimedia sessions)\n",
    "\n",
    "<img style=\"float: left; \" src=\"images/big-data-growth.png\" alt=\"big-data-growth\" width=\"600\"/>\n"
   ]
  },
  {
   "cell_type": "markdown",
   "id": "28d54e2c",
   "metadata": {},
   "source": [
    "## The five Vs\n",
    "\n",
    "- Volume (how much?)\n",
    "- Variety (what kind?)\n",
    "- Velocity (how frequent?)\n",
    "- Veracity (how accurate?)\n",
    "- Value (how useful?)"
   ]
  },
  {
   "cell_type": "markdown",
   "id": "6dbd3301",
   "metadata": {},
   "source": [
    "## Data engineers vs. data scientists\n",
    "\n",
    "Data engineers enable data scientists\n",
    "\n",
    "\n",
    "<!-- <div style=\"float:left\"> -->\n",
    "<style width: 70%>\n",
    "    \n",
    "| Data engineer           | Data scientist            |\n",
    "|-------------------------|---------------------------|\n",
    "| Ingest and store data   |  Exploit data             |\n",
    "| Set up databases        |  Access databases         |\n",
    "| Build data pipelines    |  Use pipeline outputs     |\n",
    "| Strong software skills  |  Strong analytical skills |\n",
    "</style>\n",
    "<!-- </div> -->"
   ]
  },
  {
   "cell_type": "markdown",
   "id": "6b764a75",
   "metadata": {},
   "source": [
    "## Data pipelines ensure an efficient flow of the data\n",
    "\n",
    "\n",
    "    \n",
    "| Automate                               | Reduce                              |\n",
    "|----------------------------------------|-------------------------------------|\n",
    "| Extracting                             | Human intervention                  |\n",
    "| Transforming                           | Errors                              |       \n",
    "| Combining                              | Time it takes data to flow          |    \n",
    "| Validating                             |                                     |\n",
    "| Loading                                |                                     |\n"
   ]
  },
  {
   "cell_type": "markdown",
   "id": "3f93d286",
   "metadata": {},
   "source": [
    "## ETL and data pipelines\n",
    "\n",
    "    \n",
    "| ETL                                             | Data pipelines                               |\n",
    "|-------------------------------------------------|----------------------------------------------|\n",
    "| Popular framework for designing data pipelines  | Move data from one system to another         |\n",
    "| 1) Extract data                                 | May follow ETL                               |       \n",
    "| 2) Transform extracted data                     | Data may not be transformed                  |    \n",
    "| 3) Load transformed data to another database    | Data may be directly loaded in applications  |  \n",
    "\n"
   ]
  },
  {
   "cell_type": "markdown",
   "id": "8f9fef29",
   "metadata": {},
   "source": [
    "## 2. Storing data\n",
    "\n",
    "It's time to talk about data storage - one of the main responsibilities for a data engineer. In this section, we'll learn how data engineers manage different data structures, work in SQL - the programming language of choice for querying and storing data, and implement appropriate data storage solutions with data lakes and data warehouses."
   ]
  },
  {
   "cell_type": "markdown",
   "id": "ed41c40c",
   "metadata": {},
   "source": [
    "## Structured data\n",
    "\n",
    "- Easy to search and organize\n",
    "- Consistent model, rows and columns\n",
    "- Defined types\n",
    "- Can be grouped to form relations\n",
    "- Stored in relational databases\n",
    "- About 20% of the data is structured\n",
    "- Created and queried using using SQL"
   ]
  },
  {
   "cell_type": "markdown",
   "id": "2938f4f2",
   "metadata": {},
   "source": [
    "## Semi-structured data\n",
    "\n",
    "- Relatively easy to search and organize\n",
    "- Consistent model, less-rigid implementation: different observations have different sizes\n",
    "- Different types\n",
    "- Can be grouped, but needs more work\n",
    "- NoSQL databases: JSON, XML, YAML"
   ]
  },
  {
   "cell_type": "markdown",
   "id": "2ca613b9",
   "metadata": {},
   "source": [
    "## Unstructured data\n",
    "\n",
    "- Does not follow a model, can't be contained in rows and columns\n",
    "- Difficult to search and organize\n",
    "- Usually text, sound, pictures or videos\n",
    "- Usually stored in data lakes, can appear in data warehouses or databases\n",
    "- Most of the data is unstructured\n",
    "- Can be extremely valuable"
   ]
  },
  {
   "cell_type": "markdown",
   "id": "52b3f2f4",
   "metadata": {},
   "source": [
    "## Adding some structure\n",
    "\n",
    "- Use AI to search and organize unstructured data\n",
    "- Add information to make it semi-structured"
   ]
  },
  {
   "cell_type": "markdown",
   "id": "502d6b21",
   "metadata": {},
   "source": [
    "## SQL databases\n",
    "\n",
    "- Structured Query Language\n",
    "- Industry standard for Relational Database Management System (RDBMS)\n",
    "- Allows you to access many records at once, and group, filter or aggregate them\n",
    "- Close to written English, easy to write and understand\n",
    "- Data engineers use SQL to create and maintain databases\n",
    "- Data scientists use SQL to query (request information from) databases"
   ]
  },
  {
   "cell_type": "markdown",
   "id": "0183f86f",
   "metadata": {},
   "source": [
    "## Database schema\n",
    "\n",
    "- Databases are made of tables\n",
    "- The database schema governs how tables are related"
   ]
  },
  {
   "cell_type": "markdown",
   "id": "119c2b96",
   "metadata": {},
   "source": [
    "## Several implementations\n",
    "\n",
    "- SQLite\n",
    "- MySQL\n",
    "- PostgreSQL\n",
    "- Oracle SQL\n",
    "- SQL Server"
   ]
  },
  {
   "cell_type": "markdown",
   "id": "4a868f51",
   "metadata": {},
   "source": [
    "## Data warehouses and data lakes\n",
    "\n",
    "\n",
    "|        Data lake                             |         Data warehouse                           |\n",
    "|:----------------------------------------------|--------------------------------------------------:|\n",
    "| Stores all the raw data                      | Specific data for specific use                   |\n",
    "| Can be petabytes (1 million GBs)             | Relatively small                                 |\n",
    "| Stores all data structures                   | Stores mainly structured data                    |\n",
    "| Cost-effective                               | More costly to update                            |\n",
    "| Difficult to analyze                         | Optimized for data analysis                      |\n",
    "| Requires an up-to-date data catalog          | Also used by data analysts and business analysts |\n",
    "| Used by data scientists                      | Ad-hoc, read-only queries                        |\n",
    "| Big data, real-time analytics                |                                                  |\n"
   ]
  },
  {
   "cell_type": "markdown",
   "id": "386ce127",
   "metadata": {},
   "source": [
    "## Data catalog for data lakes\n",
    "\n",
    "- What is the source of this data?\n",
    "- Where is this data used?\n",
    "- Who is the owner of the data?\n",
    "- How often is this data updated?\n",
    "- Good practice in terms of data governance\n",
    "- Ensures reproducibility\n",
    "- No catalog --> data swamp\n",
    "\n",
    "**Good practice for any data storage solution**\n",
    "- Reliability\n",
    "- Autonomy\n",
    "- Scalability\n",
    "- Speed"
   ]
  },
  {
   "cell_type": "markdown",
   "id": "9f78d04d",
   "metadata": {},
   "source": [
    "## Database vs. data warehouse\n",
    "\n",
    "- Database:\n",
    "    - General term\n",
    "    - Loosely defined as organized data stored and accessed on a computer\n",
    "- Datawarehouse is a type of database"
   ]
  },
  {
   "cell_type": "markdown",
   "id": "2e7d934d",
   "metadata": {},
   "source": [
    "## 3. Moving and processing data\n",
    "\n",
    "Data engineers make life easy for data scienctists by preparing raw data for analysis using different processing techniques at different steps. These steps need to be combined to create pipelines, which is when automation comes into play. Finally, data engineers use parallel and cloud computing to keep pipelines flowing smoothly."
   ]
  },
  {
   "cell_type": "markdown",
   "id": "d31fcb7c",
   "metadata": {},
   "source": [
    "## A general definition\n",
    "\n",
    "- Data processing: converting raw data into meaningful information"
   ]
  },
  {
   "cell_type": "markdown",
   "id": "3ecc8662",
   "metadata": {},
   "source": [
    "## Data processing value\n",
    "\n",
    "### Conceptually\n",
    "- Remove unwanted data\n",
    "- Optimize memory, process and network costs\n",
    "- Convert data from one type to another\n",
    "- Organize data\n",
    "- To fit into a schema/structure\n",
    "- Increase productivity\n",
    "\n",
    "### At Spotflix\n",
    "- No long term need for testing feature data\n",
    "- Can't afford to store and stream files this big\n",
    "- Convert songs from `.flac` to `.ogg`\n",
    "- Reorganize data from the data lake to data warehouses\n",
    "- Employee table example\n",
    "- Enable data scientists"
   ]
  },
  {
   "cell_type": "markdown",
   "id": "4dc04804",
   "metadata": {},
   "source": [
    "## How data engineers process data\n",
    "\n",
    "- Data manipulation, cleaning, and tidying tasks\n",
    "    - that can be automated\n",
    "    - that will always need to be done\n",
    "- Store data in a sanely structured database\n",
    "- Create views on top of the database tables\n",
    "- Optimizing the performance of the database\n",
    "- Rejecting corrupt song files\n",
    "- Deciding what happens with missing metadata\n",
    "- Seperate artists and albums tables...\n",
    "- ...but provide view combining them\n",
    "- indexing"
   ]
  },
  {
   "cell_type": "markdown",
   "id": "343917dc",
   "metadata": {},
   "source": [
    "## Scheduling\n",
    "\n",
    "- Can apply to any task listed in data processing\n",
    "- Scheduling is the glue of your system\n",
    "- Holds each piece and organize how they work together\n",
    "- Runs tasks in a specific order and resolve all dependencies\n",
    "\n",
    "- Manually\n",
    "- Time\n",
    "- Sensor scheduling"
   ]
  },
  {
   "cell_type": "markdown",
   "id": "a8b79c56",
   "metadata": {},
   "source": [
    "## Batches and streams\n",
    "\n",
    "- Batches\n",
    "    - Group records at intervals\n",
    "    - Often cheaper\n",
    "- Streams\n",
    "    - Send individual records right away\n",
    "    \n",
    "- Songs uploaded by artists\n",
    "- Employee table\n",
    "- Revenue table\n",
    "- New users signing in\n",
    "- Another example: online vs. offline listening"
   ]
  },
  {
   "cell_type": "markdown",
   "id": "3564b0ab",
   "metadata": {},
   "source": [
    "## Scheduling tools\n",
    "\n",
    "- Apache airflow\n",
    "- Luigi\n"
   ]
  },
  {
   "cell_type": "markdown",
   "id": "dd27aba1",
   "metadata": {},
   "source": [
    "## Parallel computing\n",
    "\n",
    "- Basis of modern data processing tools\n",
    "- Necessary:\n",
    "    - Mainly because of memory\n",
    "    - Also for processing power\n",
    "- How it works:\n",
    "    - Split tasks into several smaller subtasks\n",
    "    - Distribute these subtasks over several computers"
   ]
  },
  {
   "cell_type": "markdown",
   "id": "1ff70d40",
   "metadata": {},
   "source": [
    "## Benefits and risks of parallel computing\n",
    "\n",
    "- Employees = processing units\n",
    "- Advantages\n",
    "    - Extra processing power\n",
    "    - Reduced memory footprint\n",
    "- Disadvantages\n",
    "    - Moving data incurs a cost\n",
    "    - Communication time"
   ]
  },
  {
   "cell_type": "markdown",
   "id": "9e76a6cf",
   "metadata": {},
   "source": [
    "## Cloud computing for data processing\n",
    "\n",
    "\n",
    "|           Servers                            |            Servers on the cloud    |\n",
    "|:--------------------------------------------:|:----------------------------------:|\n",
    "| Bought                                       | Rented                             |\n",
    "| Need space                                   | Don't need space                   |\n",
    "| Electrical and maintenance cost              | Use just the resources we need     |\n",
    "| Enough power for peak moments                | When we need them                  |\n",
    "| Processing power unused at quieter times     | The closer to the user the better  |\n",
    "    "
   ]
  },
  {
   "cell_type": "markdown",
   "id": "586c3b18",
   "metadata": {},
   "source": [
    "## Cloud computing for data storage\n",
    "\n",
    "- Database reliability: data replication\n",
    "- Risk with sensitive data"
   ]
  },
  {
   "cell_type": "markdown",
   "id": "3b3d249c",
   "metadata": {},
   "source": [
    "## Major cloud vendors\n",
    "\n",
    "<img style=\"float: left; \" src=\"images/cloud-computing.png\" alt=\"cloud-computing\" width=\"700\"/>"
   ]
  },
  {
   "cell_type": "markdown",
   "id": "ec797709",
   "metadata": {},
   "source": [
    "## Multicloud\n",
    "\n",
    "\n",
    "|       Pros                             |         Cons                             |\n",
    "|:---------------------------------------|-----------------------------------------:|\n",
    "| Reducing reliance on a single vendor   | Cloud providers try to lock in consumers |\n",
    "| Cost-efficiencies                      | Incompatibility                          |\n",
    "| Local laws requiring certain data to physically present within the country    | Security and governance   |     \n",
    "| Mitigating against disasters           |                                           |\n"
   ]
  }
 ],
 "metadata": {
  "kernelspec": {
   "display_name": "Python 3 (ipykernel)",
   "language": "python",
   "name": "python3"
  },
  "language_info": {
   "codemirror_mode": {
    "name": "ipython",
    "version": 3
   },
   "file_extension": ".py",
   "mimetype": "text/x-python",
   "name": "python",
   "nbconvert_exporter": "python",
   "pygments_lexer": "ipython3",
   "version": "3.8.11"
  }
 },
 "nbformat": 4,
 "nbformat_minor": 5
}
